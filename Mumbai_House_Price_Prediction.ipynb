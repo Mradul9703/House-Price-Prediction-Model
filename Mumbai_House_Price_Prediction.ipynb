{
  "nbformat": 4,
  "nbformat_minor": 0,
  "metadata": {
    "colab": {
      "provenance": []
    },
    "kernelspec": {
      "name": "python3",
      "display_name": "Python 3"
    },
    "language_info": {
      "name": "python"
    }
  },
  "cells": [
    {
      "cell_type": "markdown",
      "source": [
        "## Mumbai House Price Prediction using Linear Regression Model"
      ],
      "metadata": {
        "id": "bDOzCov7zGv-"
      }
    },
    {
      "cell_type": "markdown",
      "source": [
        "-- Importing necessary libraries --"
      ],
      "metadata": {
        "id": "m6PA7PP3w1go"
      }
    },
    {
      "cell_type": "code",
      "source": [
        "import numpy as np\n",
        "import pandas as pd\n",
        "import matplotlib.pyplot as plt\n",
        "import seaborn as sns\n",
        "from sklearn.preprocessing import StandardScaler\n",
        "from sklearn.preprocessing import LabelEncoder\n",
        "from sklearn.model_selection import train_test_split\n",
        "from sklearn.linear_model import LinearRegression\n",
        "from sklearn import metrics"
      ],
      "metadata": {
        "id": "Fu-ViAkY3LZk"
      },
      "execution_count": null,
      "outputs": []
    },
    {
      "cell_type": "markdown",
      "source": [
        "-- Importing data --"
      ],
      "metadata": {
        "id": "bMCMw3YClxoc"
      }
    },
    {
      "cell_type": "code",
      "source": [
        "data = pd.read_csv('/content/drive/MyDrive/Colab Files/Mumbai Housing dataset/Mumbai1.csv')"
      ],
      "metadata": {
        "id": "90zt-BOE3ed8"
      },
      "execution_count": null,
      "outputs": []
    },
    {
      "cell_type": "code",
      "source": [
        "data.head()"
      ],
      "metadata": {
        "id": "BpgUvLN24Kcl"
      },
      "execution_count": null,
      "outputs": []
    },
    {
      "cell_type": "markdown",
      "source": [
        "-- Pre-processing data --"
      ],
      "metadata": {
        "id": "dppmF3z-l6H-"
      }
    },
    {
      "cell_type": "code",
      "source": [
        "# Encoding locations to numeric data\n",
        "label_encoder = LabelEncoder()\n",
        "data['Location'] = label_encoder.fit_transform(data['Location'])"
      ],
      "metadata": {
        "id": "uU8FZSwB-vt9"
      },
      "execution_count": null,
      "outputs": []
    },
    {
      "cell_type": "code",
      "source": [
        "# Scaling columns\n",
        "scalar = StandardScaler()\n",
        "columns_to_scale = ['Price','Area','Location']\n",
        "data[columns_to_scale] = scalar.fit_transform(data[columns_to_scale])"
      ],
      "metadata": {
        "id": "8LalnSCrxXaN"
      },
      "execution_count": null,
      "outputs": []
    },
    {
      "cell_type": "code",
      "source": [
        "data.head()"
      ],
      "metadata": {
        "id": "P9qk8afv4PI4"
      },
      "execution_count": null,
      "outputs": []
    },
    {
      "cell_type": "code",
      "source": [
        "# Separating features and target\n",
        "X = data.drop(['Price','Unnamed: 0'], axis=1)\n",
        "Y = data['Price']"
      ],
      "metadata": {
        "id": "z3ZO9NRS4dLV"
      },
      "execution_count": null,
      "outputs": []
    },
    {
      "cell_type": "markdown",
      "source": [
        "-- Splitting data --"
      ],
      "metadata": {
        "id": "OoPzegrBmBHk"
      }
    },
    {
      "cell_type": "code",
      "source": [
        "X_train, X_test, Y_train, Y_test = train_test_split(X, Y, test_size = 0.2, random_state=0)"
      ],
      "metadata": {
        "id": "uvOVPpQ68hQA"
      },
      "execution_count": null,
      "outputs": []
    },
    {
      "cell_type": "markdown",
      "source": [
        "-- Training model --"
      ],
      "metadata": {
        "id": "NLPah3WMmF3V"
      }
    },
    {
      "cell_type": "code",
      "source": [
        "regr = LinearRegression()\n",
        "regr.fit(X_train, Y_train)"
      ],
      "metadata": {
        "id": "YjKLaPvi90Zl"
      },
      "execution_count": null,
      "outputs": []
    },
    {
      "cell_type": "code",
      "source": [
        "Y_pred = regr.predict(X_test)"
      ],
      "metadata": {
        "id": "V_jh3b1S_t0i"
      },
      "execution_count": null,
      "outputs": []
    },
    {
      "cell_type": "markdown",
      "source": [
        "-- Checking results --"
      ],
      "metadata": {
        "id": "ozBx7njHmLEH"
      }
    },
    {
      "cell_type": "code",
      "source": [
        "score_1 = metrics.r2_score(Y_test, Y_pred)\n",
        "print(\"R2 score is: \", score_1)\n",
        "score_2 = metrics.mean_absolute_error(Y_test, Y_pred)\n",
        "print(\"Mean Absolute Error is: \", score_2)"
      ],
      "metadata": {
        "id": "rmQNEImTL0qI"
      },
      "execution_count": null,
      "outputs": []
    },
    {
      "cell_type": "code",
      "source": [
        "plt.scatter(Y_test, Y_pred)\n",
        "plt.plot([min(Y_test), max(Y_test)], [min(Y_pred), max(Y_pred)], color='red')\n",
        "plt.xlabel(\"Actual Prices\")\n",
        "plt.ylabel(\"Predicted Prices\")\n",
        "plt.title(\"Actual Prices vs Predicted Prices\")\n",
        "plt.show()"
      ],
      "metadata": {
        "id": "a5rAen2kUBFN"
      },
      "execution_count": null,
      "outputs": []
    }
  ]
}